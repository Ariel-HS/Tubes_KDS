{
 "cells": [
  {
   "cell_type": "markdown",
   "id": "8f5f379e",
   "metadata": {},
   "source": [
    "# Imports"
   ]
  },
  {
   "cell_type": "code",
   "execution_count": 2,
   "id": "0d14e05c",
   "metadata": {},
   "outputs": [],
   "source": [
    "import numpy as np\n",
    "import pandas as pd\n",
    "import matplotlib.pyplot as plt\n",
    "import seaborn as sns\n",
    "from Bio import SeqIO\n",
    "import subprocess\n",
    "import re"
   ]
  },
  {
   "cell_type": "markdown",
   "id": "40ab888f",
   "metadata": {},
   "source": [
    "# Analysis"
   ]
  },
  {
   "cell_type": "code",
   "execution_count": 3,
   "id": "3e4c6b13",
   "metadata": {},
   "outputs": [],
   "source": [
    "# Load csv\n",
    "df_bru_a1 = pd.read_csv(\"./counts_bru_a1.csv\")\n",
    "df_bru_a2 = pd.read_csv(\"./counts_bru_a2.csv\")\n",
    "df_bru_b = pd.read_csv(\"./counts_bru_b.csv\")\n",
    "\n",
    "df_bru_a1.head()\n",
    "\n",
    "df_list = [(df_bru_a1, 'bru_a1'), (df_bru_a2, 'bru_a2'), (df_bru_b, 'bru_b')]"
   ]
  },
  {
   "cell_type": "code",
   "execution_count": 4,
   "id": "ad0cb243",
   "metadata": {},
   "outputs": [],
   "source": [
    "# take the species then convert to tsv\n",
    "\n",
    "for (df, name) in df_list:\n",
    "    df_species = df.copy()\n",
    "\n",
    "    for i, row in df_species.iterrows():\n",
    "        title = df_species.at[i,\"organism\"]\n",
    "        new_title = \"_\".join(title.split(\"|\")[-1].split()[:2]) \n",
    "        df_species.at[i,\"organism\"] = new_title # crude parsing\n",
    "\n",
    "    df_species = df_species.groupby('organism', as_index=False).sum().sort_values(by=\"count\", ascending=False)\n",
    "\n",
    "    # convert to tsv\n",
    "    df_species['organism'].to_csv(f\"species_{name}.tsv\", sep=\"\\t\")"
   ]
  },
  {
   "cell_type": "code",
   "execution_count": 5,
   "id": "feced4c2",
   "metadata": {},
   "outputs": [],
   "source": [
    "# df_species['organism'].to_csv(\"test.tsv\", sep=\"\\t\")"
   ]
  },
  {
   "cell_type": "markdown",
   "id": "727f35ed",
   "metadata": {},
   "source": [
    "## Analisis Kelimpahan dan Keanekaragaman Mikroba dengan Metode Statistika"
   ]
  },
  {
   "cell_type": "code",
   "execution_count": null,
   "id": "0a8e4044",
   "metadata": {},
   "outputs": [
    {
     "data": {
      "text/html": [
       "<div>\n",
       "<style scoped>\n",
       "    .dataframe tbody tr th:only-of-type {\n",
       "        vertical-align: middle;\n",
       "    }\n",
       "\n",
       "    .dataframe tbody tr th {\n",
       "        vertical-align: top;\n",
       "    }\n",
       "\n",
       "    .dataframe thead th {\n",
       "        text-align: right;\n",
       "    }\n",
       "</style>\n",
       "<table border=\"1\" class=\"dataframe\">\n",
       "  <thead>\n",
       "    <tr style=\"text-align: right;\">\n",
       "      <th></th>\n",
       "      <th>organism</th>\n",
       "      <th>count</th>\n",
       "      <th>proportion</th>\n",
       "      <th>ln(p)</th>\n",
       "      <th>p*ln(p)</th>\n",
       "    </tr>\n",
       "  </thead>\n",
       "  <tbody>\n",
       "    <tr>\n",
       "      <th>1540</th>\n",
       "      <td>Hydrocarboniphaga_daqingensis</td>\n",
       "      <td>2480</td>\n",
       "      <td>0.033597</td>\n",
       "      <td>-3.393317</td>\n",
       "      <td>-0.114005</td>\n",
       "    </tr>\n",
       "    <tr>\n",
       "      <th>2081</th>\n",
       "      <td>Methylotenera_mobilis</td>\n",
       "      <td>1353</td>\n",
       "      <td>0.018329</td>\n",
       "      <td>-3.999251</td>\n",
       "      <td>-0.073304</td>\n",
       "    </tr>\n",
       "    <tr>\n",
       "      <th>2281</th>\n",
       "      <td>Nevskia_persephonica</td>\n",
       "      <td>1318</td>\n",
       "      <td>0.017855</td>\n",
       "      <td>-4.025460</td>\n",
       "      <td>-0.071875</td>\n",
       "    </tr>\n",
       "    <tr>\n",
       "      <th>2683</th>\n",
       "      <td>Pelotomaculum_thermopropionicum</td>\n",
       "      <td>1266</td>\n",
       "      <td>0.017151</td>\n",
       "      <td>-4.065713</td>\n",
       "      <td>-0.069730</td>\n",
       "    </tr>\n",
       "    <tr>\n",
       "      <th>2748</th>\n",
       "      <td>Piscinibacter_terrae</td>\n",
       "      <td>1140</td>\n",
       "      <td>0.015444</td>\n",
       "      <td>-4.170547</td>\n",
       "      <td>-0.064409</td>\n",
       "    </tr>\n",
       "  </tbody>\n",
       "</table>\n",
       "</div>"
      ],
      "text/plain": [
       "                             organism  count  proportion     ln(p)   p*ln(p)\n",
       "1540    Hydrocarboniphaga_daqingensis   2480    0.033597 -3.393317 -0.114005\n",
       "2081            Methylotenera_mobilis   1353    0.018329 -3.999251 -0.073304\n",
       "2281             Nevskia_persephonica   1318    0.017855 -4.025460 -0.071875\n",
       "2683  Pelotomaculum_thermopropionicum   1266    0.017151 -4.065713 -0.069730\n",
       "2748             Piscinibacter_terrae   1140    0.015444 -4.170547 -0.064409"
      ]
     },
     "metadata": {},
     "output_type": "display_data"
    }
   ],
   "source": [
    "# Shannon Diversity Index\n",
    "\n",
    "df_shannon = df_species.copy()\n",
    "\n",
    "# calculate proportions\n",
    "total = df_shannon['count'].sum()\n",
    "# print(total)\n",
    "for i, row in df_shannon.iterrows():\n",
    "    species = df_shannon.at[i,\"organism\"]\n",
    "    count = df_shannon.at[i,\"count\"]\n",
    "    proportion = count/total\n",
    "    df_shannon.at[i,\"proportion\"] = proportion\n",
    "\n",
    "    # calculate natural log of proportion\n",
    "    nat_log_p = np.log(proportion)\n",
    "    df_shannon.at[i,\"ln(p)\"] = nat_log_p\n",
    "\n",
    "    # calculate proportion * their natural log\n",
    "    p_nat_log_p = nat_log_p*proportion\n",
    "    df_shannon.at[i,\"p*ln(p)\"] = p_nat_log_p\n"
   ]
  },
  {
   "cell_type": "code",
   "execution_count": null,
   "id": "a75426aa",
   "metadata": {},
   "outputs": [
    {
     "data": {
      "text/html": [
       "<div>\n",
       "<style scoped>\n",
       "    .dataframe tbody tr th:only-of-type {\n",
       "        vertical-align: middle;\n",
       "    }\n",
       "\n",
       "    .dataframe tbody tr th {\n",
       "        vertical-align: top;\n",
       "    }\n",
       "\n",
       "    .dataframe thead th {\n",
       "        text-align: right;\n",
       "    }\n",
       "</style>\n",
       "<table border=\"1\" class=\"dataframe\">\n",
       "  <thead>\n",
       "    <tr style=\"text-align: right;\">\n",
       "      <th></th>\n",
       "      <th>organism</th>\n",
       "      <th>count</th>\n",
       "      <th>proportion</th>\n",
       "      <th>ln(p)</th>\n",
       "      <th>p*ln(p)</th>\n",
       "    </tr>\n",
       "  </thead>\n",
       "  <tbody>\n",
       "    <tr>\n",
       "      <th>1540</th>\n",
       "      <td>Hydrocarboniphaga_daqingensis</td>\n",
       "      <td>2480</td>\n",
       "      <td>0.033597</td>\n",
       "      <td>-3.393317</td>\n",
       "      <td>-0.114005</td>\n",
       "    </tr>\n",
       "    <tr>\n",
       "      <th>2081</th>\n",
       "      <td>Methylotenera_mobilis</td>\n",
       "      <td>1353</td>\n",
       "      <td>0.018329</td>\n",
       "      <td>-3.999251</td>\n",
       "      <td>-0.073304</td>\n",
       "    </tr>\n",
       "    <tr>\n",
       "      <th>2281</th>\n",
       "      <td>Nevskia_persephonica</td>\n",
       "      <td>1318</td>\n",
       "      <td>0.017855</td>\n",
       "      <td>-4.025460</td>\n",
       "      <td>-0.071875</td>\n",
       "    </tr>\n",
       "    <tr>\n",
       "      <th>2683</th>\n",
       "      <td>Pelotomaculum_thermopropionicum</td>\n",
       "      <td>1266</td>\n",
       "      <td>0.017151</td>\n",
       "      <td>-4.065713</td>\n",
       "      <td>-0.069730</td>\n",
       "    </tr>\n",
       "    <tr>\n",
       "      <th>2748</th>\n",
       "      <td>Piscinibacter_terrae</td>\n",
       "      <td>1140</td>\n",
       "      <td>0.015444</td>\n",
       "      <td>-4.170547</td>\n",
       "      <td>-0.064409</td>\n",
       "    </tr>\n",
       "  </tbody>\n",
       "</table>\n",
       "</div>"
      ],
      "text/plain": [
       "                             organism  count  proportion     ln(p)   p*ln(p)\n",
       "1540    Hydrocarboniphaga_daqingensis   2480    0.033597 -3.393317 -0.114005\n",
       "2081            Methylotenera_mobilis   1353    0.018329 -3.999251 -0.073304\n",
       "2281             Nevskia_persephonica   1318    0.017855 -4.025460 -0.071875\n",
       "2683  Pelotomaculum_thermopropionicum   1266    0.017151 -4.065713 -0.069730\n",
       "2748             Piscinibacter_terrae   1140    0.015444 -4.170547 -0.064409"
      ]
     },
     "metadata": {},
     "output_type": "display_data"
    }
   ],
   "source": [
    "df_shannon.head()"
   ]
  },
  {
   "cell_type": "code",
   "execution_count": null,
   "id": "df011920",
   "metadata": {},
   "outputs": [
    {
     "name": "stdout",
     "output_type": "stream",
     "text": [
      "6.5217510917527095\n"
     ]
    }
   ],
   "source": [
    "# calculate shannon diversity\n",
    "shannon_diversity = -df_shannon[\"p*ln(p)\"].sum()\n",
    "print(shannon_diversity)"
   ]
  },
  {
   "cell_type": "markdown",
   "id": "370a19db",
   "metadata": {},
   "source": [
    "## Analisis Fungsi Mikroba yang Terdapat pada Dataset dengan Prediksi Jalur Fungsional"
   ]
  },
  {
   "cell_type": "code",
   "execution_count": 6,
   "id": "d0bcc8d4",
   "metadata": {},
   "outputs": [],
   "source": [
    "# run faprotax to match species with function (source: https://pages.uoregon.edu/slouca/LoucaLab/archive/FAPROTAX/lib/php/index.php)\n",
    "\n",
    "for (_, name) in df_list:\n",
    "    cmd = [\n",
    "        \"python\", \"collapse_table.py\",\n",
    "        \"-i\", f\"species_{name}.tsv\",\n",
    "        \"-o\", f\"out_{name}.tsv\",\n",
    "        \"-g\", \"FAPROTAX.txt\",\n",
    "        \"-d\", \"organism\",\n",
    "        \"-v\",\n",
    "        \"-r\", f\"report_{name}.txt\",\n",
    "        \"-f\"\n",
    "    ]\n",
    "    \n",
    "    subprocess.run(cmd)"
   ]
  },
  {
   "cell_type": "code",
   "execution_count": 7,
   "id": "7e9d9ab6",
   "metadata": {},
   "outputs": [],
   "source": [
    "# use regex to get result\n",
    "\n",
    "# get summary of functions\n",
    "pattern = r\"(\\w+):\\s+(\\d+)\\s+records\"\n",
    "matches_bru_a1 = []\n",
    "for i, line in enumerate(open(f'report_bru_a1.txt')):\n",
    "    for match in re.finditer(pattern, line):\n",
    "        # print(f'Found on line {i+1}: {match.group()}')\n",
    "        matches_bru_a1.append(match)\n",
    "\n",
    "matches_bru_a2 = []\n",
    "for i, line in enumerate(open(f'report_bru_a2.txt')):\n",
    "    for match in re.finditer(pattern, line):\n",
    "        # print(f'Found on line {i+1}: {match.group()}')\n",
    "        matches_bru_a2.append(match)\n",
    "\n",
    "matches_bru_b = []\n",
    "for i, line in enumerate(open(f'report_bru_b.txt')):\n",
    "    for match in re.finditer(pattern, line):\n",
    "        # print(f'Found on line {i+1}: {match.group()}')\n",
    "        matches_bru_b.append(match)"
   ]
  },
  {
   "cell_type": "code",
   "execution_count": null,
   "id": "b7787356",
   "metadata": {},
   "outputs": [
    {
     "data": {
      "text/html": [
       "<div>\n",
       "<style scoped>\n",
       "    .dataframe tbody tr th:only-of-type {\n",
       "        vertical-align: middle;\n",
       "    }\n",
       "\n",
       "    .dataframe tbody tr th {\n",
       "        vertical-align: top;\n",
       "    }\n",
       "\n",
       "    .dataframe thead th {\n",
       "        text-align: right;\n",
       "    }\n",
       "</style>\n",
       "<table border=\"1\" class=\"dataframe\">\n",
       "  <thead>\n",
       "    <tr style=\"text-align: right;\">\n",
       "      <th></th>\n",
       "      <th>function</th>\n",
       "      <th>count</th>\n",
       "    </tr>\n",
       "  </thead>\n",
       "  <tbody>\n",
       "    <tr>\n",
       "      <th>71</th>\n",
       "      <td>chemoheterotrophy</td>\n",
       "      <td>254</td>\n",
       "    </tr>\n",
       "    <tr>\n",
       "      <th>35</th>\n",
       "      <td>aerobic_chemoheterotrophy</td>\n",
       "      <td>109</td>\n",
       "    </tr>\n",
       "    <tr>\n",
       "      <th>56</th>\n",
       "      <td>nitrate_reduction</td>\n",
       "      <td>94</td>\n",
       "    </tr>\n",
       "    <tr>\n",
       "      <th>34</th>\n",
       "      <td>fermentation</td>\n",
       "      <td>78</td>\n",
       "    </tr>\n",
       "    <tr>\n",
       "      <th>46</th>\n",
       "      <td>animal_parasites_or_symbionts</td>\n",
       "      <td>58</td>\n",
       "    </tr>\n",
       "  </tbody>\n",
       "</table>\n",
       "</div>"
      ],
      "text/plain": [
       "                         function  count\n",
       "71              chemoheterotrophy    254\n",
       "35      aerobic_chemoheterotrophy    109\n",
       "56              nitrate_reduction     94\n",
       "34                   fermentation     78\n",
       "46  animal_parasites_or_symbionts     58"
      ]
     },
     "execution_count": 16,
     "metadata": {},
     "output_type": "execute_result"
    }
   ],
   "source": [
    "df_function = pd.DataFrame(columns=['function','count'])\n",
    "\n",
    "for match in matches_bru_a1:\n",
    "    function = match.group(1)\n",
    "    num_record = int(match.group(2))\n",
    "    \n",
    "    if (int(num_record) == 0):\n",
    "        continue\n",
    "\n",
    "    # append dataframe\n",
    "    df_function.loc[len(df_function)] = [function,num_record]\n",
    "\n",
    "df_function = df_function.sort_values(by='count', ascending=False)\n",
    "df_function.head()"
   ]
  },
  {
   "cell_type": "markdown",
   "id": "2675128f",
   "metadata": {},
   "source": [
    "## Correlate Function with Microbe Count"
   ]
  },
  {
   "cell_type": "code",
   "execution_count": 112,
   "id": "ac88b113",
   "metadata": {},
   "outputs": [
    {
     "name": "stdout",
     "output_type": "stream",
     "text": [
      "0.9950281781727537\n"
     ]
    }
   ],
   "source": [
    "df_correlation = df_function.copy().set_index('function')\n",
    "df_correlation['sum_proportion'] = 0.0\n",
    "df_shannon_copy = df_shannon.copy().set_index('organism')\n",
    "\n",
    "# df_correlation.head()\n",
    "# df_shannon_copy.head()\n",
    "\n",
    "function_pattern = r\"#\\s+(\\w+)\\s+\\(\\d+\\s+records\\):\"\n",
    "species_pattern = r\"\\s+(\\w+)\"\n",
    "for i, line in enumerate(open(f'report_bru_a1.txt')):\n",
    "    match_function = re.match(function_pattern, line)\n",
    "    if (match_function):\n",
    "        # remember function\n",
    "        function = match_function.group(1)\n",
    "\n",
    "    species_match = re.match(species_pattern, line)\n",
    "    if (species_match):\n",
    "        species = species_match.group().strip()\n",
    "        # print(function, species)\n",
    "\n",
    "        # get species proportion, function should match last stored function\n",
    "        result = df_shannon_copy.loc[species]\n",
    "        proportion = result['proportion']\n",
    "\n",
    "        # add proportion to df\n",
    "        df_correlation.at[function, 'sum_proportion'] += proportion\n",
    "    \n",
    "print(df_correlation['sum_proportion'].sum()) # check sum of proportion is one (or close to one if some organism isnt found)\n",
    "\n",
    "df_correlation = df_correlation.sort_values(by='sum_proportion', ascending=False)\n",
    "df_correlation.head()\n",
    "\n",
    "df_correlation.to_csv(\"functions_bru_a1.csv\")"
   ]
  },
  {
   "cell_type": "markdown",
   "id": "c0d343d8",
   "metadata": {},
   "source": [
    "### Other dataset"
   ]
  },
  {
   "cell_type": "code",
   "execution_count": 113,
   "id": "ed8fc018",
   "metadata": {},
   "outputs": [
    {
     "name": "stdout",
     "output_type": "stream",
     "text": [
      "1.0498401430584154\n"
     ]
    }
   ],
   "source": [
    "# bru_a2\n",
    "df_function = pd.DataFrame(columns=['function','count'])\n",
    "\n",
    "for match in matches_bru_a2:\n",
    "    function = match.group(1)\n",
    "    num_record = int(match.group(2))\n",
    "    \n",
    "    if (int(num_record) == 0):\n",
    "        continue\n",
    "\n",
    "    # append dataframe\n",
    "    df_function.loc[len(df_function)] = [function,num_record]\n",
    "\n",
    "df_function = df_function.sort_values(by='count', ascending=False)\n",
    "df_function.head()\n",
    "    \n",
    "df_correlation = df_function.copy().set_index('function')\n",
    "df_correlation['sum_proportion'] = 0.0\n",
    "df_shannon_copy = df_shannon.copy().set_index('organism')\n",
    "\n",
    "# df_correlation.head()\n",
    "# df_shannon_copy.head()\n",
    "\n",
    "function_pattern = r\"#\\s+(\\w+)\\s+\\(\\d+\\s+records\\):\"\n",
    "species_pattern = r\"\\s+(\\w+)\"\n",
    "for i, line in enumerate(open(f'report_bru_a2.txt')):\n",
    "    match_function = re.match(function_pattern, line)\n",
    "    if (match_function):\n",
    "        # remember function\n",
    "        function = match_function.group(1)\n",
    "\n",
    "    species_match = re.match(species_pattern, line)\n",
    "    if (species_match):\n",
    "        species = species_match.group().strip()\n",
    "        # print(function, species)\n",
    "\n",
    "        # get species proportion, function should match last stored function\n",
    "        result = df_shannon_copy.loc[species]\n",
    "        proportion = result['proportion']\n",
    "\n",
    "        # add proportion to df\n",
    "        df_correlation.at[function, 'sum_proportion'] += proportion\n",
    "    \n",
    "print(df_correlation['sum_proportion'].sum()) # check sum of proportion is one (or close to one if some organism isnt found)\n",
    "\n",
    "df_correlation = df_correlation.sort_values(by='sum_proportion', ascending=False)\n",
    "df_correlation.head()\n",
    "\n",
    "df_correlation.to_csv(\"functions_bru_a2.csv\")"
   ]
  },
  {
   "cell_type": "code",
   "execution_count": 114,
   "id": "7c8bcc25",
   "metadata": {},
   "outputs": [
    {
     "name": "stdout",
     "output_type": "stream",
     "text": [
      "1.0710279614175784\n"
     ]
    }
   ],
   "source": [
    "# bru_b\n",
    "df_function = pd.DataFrame(columns=['function','count'])\n",
    "\n",
    "for match in matches_bru_b:\n",
    "    function = match.group(1)\n",
    "    num_record = int(match.group(2))\n",
    "    \n",
    "    if (int(num_record) == 0):\n",
    "        continue\n",
    "\n",
    "    # append dataframe\n",
    "    df_function.loc[len(df_function)] = [function,num_record]\n",
    "\n",
    "df_function = df_function.sort_values(by='count', ascending=False)\n",
    "df_function.head()\n",
    "    \n",
    "df_correlation = df_function.copy().set_index('function')\n",
    "df_correlation['sum_proportion'] = 0.0\n",
    "df_shannon_copy = df_shannon.copy().set_index('organism')\n",
    "\n",
    "# df_correlation.head()\n",
    "# df_shannon_copy.head()\n",
    "\n",
    "function_pattern = r\"#\\s+(\\w+)\\s+\\(\\d+\\s+records\\):\"\n",
    "species_pattern = r\"\\s+(\\w+)\"\n",
    "for i, line in enumerate(open(f'report_bru_b.txt')):\n",
    "    match_function = re.match(function_pattern, line)\n",
    "    if (match_function):\n",
    "        # remember function\n",
    "        function = match_function.group(1)\n",
    "\n",
    "    species_match = re.match(species_pattern, line)\n",
    "    if (species_match):\n",
    "        species = species_match.group().strip()\n",
    "        # print(function, species)\n",
    "\n",
    "        # get species proportion, function should match last stored function\n",
    "        result = df_shannon_copy.loc[species]\n",
    "        proportion = result['proportion']\n",
    "\n",
    "        # add proportion to df\n",
    "        df_correlation.at[function, 'sum_proportion'] += proportion\n",
    "    \n",
    "print(df_correlation['sum_proportion'].sum()) # check sum of proportion is one (or close to one if some organism isnt found)\n",
    "\n",
    "df_correlation = df_correlation.sort_values(by='sum_proportion', ascending=False)\n",
    "df_correlation.head()\n",
    "\n",
    "df_correlation.to_csv(\"functions_bru_b.csv\")"
   ]
  }
 ],
 "metadata": {
  "kernelspec": {
   "display_name": "Python 3",
   "language": "python",
   "name": "python3"
  },
  "language_info": {
   "codemirror_mode": {
    "name": "ipython",
    "version": 3
   },
   "file_extension": ".py",
   "mimetype": "text/x-python",
   "name": "python",
   "nbconvert_exporter": "python",
   "pygments_lexer": "ipython3",
   "version": "3.12.0"
  }
 },
 "nbformat": 4,
 "nbformat_minor": 5
}
